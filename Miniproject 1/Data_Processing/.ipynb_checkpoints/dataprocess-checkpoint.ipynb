{
 "cells": [
  {
   "cell_type": "code",
   "execution_count": 11,
   "metadata": {},
   "outputs": [],
   "source": [
    "%matplotlib inline\n",
    "import pandas as pd\n",
    "import numpy as np\n",
    "import matplotlib.pyplot as plt\n",
    "from scipy import stats\n",
    "import seaborn as sns\n",
    "import statsmodels.api as sm\n",
    "import math\n"
   ]
  },
  {
   "cell_type": "code",
   "execution_count": 12,
   "metadata": {},
   "outputs": [],
   "source": [
    "def featureDesign(features):\n",
    "    features[5] = features[5]/features[6] # A ratio of free sulphur to total sulphur\n",
    "    features[5] = round(features[5], 4) # Rounds the ration into 4 decimal points. Potential ERROR!!\n",
    "    \n",
    "    features[11] = 1.0\n",
    "    features.pop(6) # TODO: Consider putting it in the main fuction\n",
    "    return features\n",
    "    "
   ]
  },
  {
   "cell_type": "code",
   "execution_count": 13,
   "metadata": {},
   "outputs": [],
   "source": [
    "def binaryOutput(features):\n",
    "    if(features[11] > 5):\n",
    "        features[11] = 1.0 # One implies positive\n",
    "    else:\n",
    "        features[11] = 0.0\n",
    "    return features"
   ]
  },
  {
   "cell_type": "code",
   "execution_count": 14,
   "metadata": {},
   "outputs": [
    {
     "name": "stdout",
     "output_type": "stream",
     "text": [
      "[[0.]\n",
      " [0.]\n",
      " [0.]\n",
      " ...\n",
      " [1.]\n",
      " [0.]\n",
      " [1.]]\n",
      "(1599, 1)\n",
      "[[ 7.4    0.7    0.    ...  0.56   9.4    1.   ]\n",
      " [ 7.8    0.88   0.    ...  0.68   9.8    1.   ]\n",
      " [ 7.8    0.76   0.04  ...  0.65   9.8    1.   ]\n",
      " ...\n",
      " [ 6.3    0.51   0.13  ...  0.75  11.     1.   ]\n",
      " [ 5.9    0.645  0.12  ...  0.71  10.2    1.   ]\n",
      " [ 6.     0.31   0.47  ...  0.66  11.     1.   ]]\n",
      "(1599, 11)\n",
      "0.0\n"
     ]
    }
   ],
   "source": [
    "with open('winequality-red.csv') as wineFile:\n",
    "    content = wineFile.readline()\n",
    "    wine_feature_matrix = list()\n",
    "    wine_output_matrix = list()\n",
    "    # Reads the file line by line\n",
    "    for line in wineFile:\n",
    "        output = list()\n",
    "        line = ''.join(line) # Creates a string\n",
    "        OrigWineMatrix =line.split(';')\n",
    "        \n",
    "        # Removes all the white spaces \n",
    "        OrigWineMatrix = [x.strip() for x in OrigWineMatrix]\n",
    "        \n",
    "        # Converts all the strings into float\n",
    "        OrigWineMatrix = list(map(float, OrigWineMatrix)) \n",
    "        \n",
    "        # Classifies all wine qualities into positive if > 5 otherwise negative\n",
    "        OrigWineMatrix = binaryOutput(OrigWineMatrix) \n",
    "        \n",
    "        output.append(OrigWineMatrix[11])\n",
    "        # Create a list of a list of each output i.e [1], [0], [1]\n",
    "        \n",
    "        wine_output_matrix.append(output) \n",
    "        \n",
    "        wine_feature_matrix.append(featureDesign(OrigWineMatrix))\n",
    "    \n",
    "    \n",
    "    wine_output_matrix = np.array(wine_output_matrix) # Create an array of outputs\n",
    "    wine_feature_matrix = np.array(wine_feature_matrix) # Create a array of features using numpy for matrix calculations\n",
    "    \n",
    "    \n",
    "    print(wine_output_matrix)\n",
    "    print(wine_output_matrix.shape)\n",
    "    print(wine_feature_matrix)\n",
    "    print(wine_feature_matrix.shape)\n",
    "    \n",
    "    print(wine_output_matrix[0][0])"
   ]
  },
  {
   "cell_type": "code",
   "execution_count": 39,
   "metadata": {},
   "outputs": [],
   "source": [
    "#alpha = 0.0005 # Stepsize/learning rate\n",
    "#iterations = 750 # Number of times we go through the gradient descent logic\n",
    "\n",
    "class LogisticRegression:\n",
    "    def gradient_descent(self, feature_matrix, output_matrix, learningRate, iterations):\n",
    "        #Initialize weight_matrix to 1s\n",
    "        weights_matrix = np.ones((np.shape(feature_matrix)[1], 1))\n",
    "        print(weights_matrix.shape)\n",
    "        for i in range(iterations):\n",
    "            \n",
    "            weights_matrix = weights_matrix + (learningRate * feature_matrix.transpose() * (output_matrix - self.sigmoid(feature_matrix * weights_matrix)))\n",
    "            \n",
    "        return weights_matrix\n",
    "    \n",
    "    def predict(self, feature_matrix, weights_matrix):\n",
    "        probs = self.logistic(sum(feature_matrix * weights_matrix))\n",
    "        \n",
    "        result = \"Probability = \" + probs.__str__() + \" | classified as negative\"\n",
    "        \n",
    "        if(probs > 0.5): result = \"Probability = \" + probs.__str__() + \" | classified as positive\"\n",
    "            \n",
    "        return result \n",
    "    def sigmoid(self, a): return 1.0 / (1 + np.exp(-a)) # P(y=1|x) formula\n",
    "    \n",
    "    #outputs the accuracy score\n",
    "    def evaluate_acc(self, featuresX, true_labels, target_labels): \n",
    "        \n",
    "        return 0"
   ]
  },
  {
   "cell_type": "code",
   "execution_count": 40,
   "metadata": {},
   "outputs": [
    {
     "name": "stdout",
     "output_type": "stream",
     "text": [
      "(11, 1)\n",
      "[[   9.51456827]\n",
      " [-460.08566639]\n",
      " [ -17.03834079]\n",
      " [  -4.68990608]\n",
      " [ -76.69772813]\n",
      " [ 311.23945057]\n",
      " [-196.37668332]\n",
      " [-463.84946074]\n",
      " [ 227.48186954]\n",
      " [ 206.17335273]\n",
      " [-197.49651096]]\n"
     ]
    }
   ],
   "source": [
    "logisticRegression = LogisticRegression()\n",
    "\n",
    "weights_result = logisticRegression.gradient_descent(np.mat(wine_feature_matrix), np.mat(wine_output_matrix), 0.005, 5000)\n",
    "print(weights_result)"
   ]
  },
  {
   "cell_type": "code",
   "execution_count": 52,
   "metadata": {},
   "outputs": [],
   "source": [
    "class LDA:\n",
    "    def fit_function(self, feature_matrix, output_matrix):\n",
    "        logOdds_ratio = self.logOdds(output_matrix)[2]\n",
    "        means = self.mean_features(feature_matrix, output_matrix, )\n",
    "        return 0\n",
    "    \n",
    "    def logOdds(self, output_matrix):\n",
    "        positive = 0\n",
    "        negative = 0\n",
    "        result = list()\n",
    "        \n",
    "        # Counts the number of positives to the number of negatives\n",
    "        for element in output_matrix:\n",
    "            if(element[0] > 0): \n",
    "                positive += 1\n",
    "            else: \n",
    "                negative += 1\n",
    "        \n",
    "        # evaluates probability of the different class to evaluate the log Odds ratio\n",
    "        probs_positive = (positive + 1)/(positive + negative + 2)\n",
    "        probs_negative = (negative + 1)/(positive + negative + 2)\n",
    "        \n",
    "        result.append(negative)\n",
    "        result.append(positive)\n",
    "        result.append(math.log((probs_positive/probs_negative)))\n",
    "        return result\n",
    "    \n",
    "    def mean_features(self, feature_matrix, output_matrix, num_positives, num_negatives):\n",
    "        output_array = list()\n",
    "        mean_X1 = np.zeros((np.shape(wine_feature_matrix)[1]))\n",
    "        mean_X0 = np.zeros((np.shape(wine_feature_matrix)[1]))\n",
    "        \n",
    "        for i in range(len(output_matrix)):\n",
    "            if(element[0] > 0):\n",
    "                mean_X1 += (1/num_positives * feature_matrix[i])\n",
    "            else:\n",
    "                mean_X0 += (1/num_positives * feature_matrix[i])\n",
    "        output_array.append(mean_X0)\n",
    "        output_array.append(mean_X1)\n",
    "        \n",
    "        return output_array"
   ]
  },
  {
   "cell_type": "code",
   "execution_count": 57,
   "metadata": {},
   "outputs": [
    {
     "name": "stdout",
     "output_type": "stream",
     "text": [
      "[14.8     1.4     0.      3.8     0.152   0.647   1.9956  7.02    1.12\n",
      " 18.8     2.    ]\n",
      "[15.8     2.4     1.      4.8     1.152   1.647   2.9956  8.02    2.12\n",
      " 19.8     3.    ]\n",
      "[7.9    1.2    0.5    2.4    0.576  0.8235 1.4978 4.01   1.06   9.9\n",
      " 1.5   ]\n",
      "[855, 744, 0.13888615776218258]\n"
     ]
    }
   ],
   "source": [
    "lda = LDA()\n",
    "result = lda.logOdds(wine_output_matrix)\n",
    "print(result) \n"
   ]
  },
  {
   "cell_type": "code",
   "execution_count": null,
   "metadata": {},
   "outputs": [],
   "source": []
  },
  {
   "cell_type": "code",
   "execution_count": null,
   "metadata": {},
   "outputs": [],
   "source": []
  }
 ],
 "metadata": {
  "kernelspec": {
   "display_name": "Python 3",
   "language": "python",
   "name": "python3"
  },
  "language_info": {
   "codemirror_mode": {
    "name": "ipython",
    "version": 3
   },
   "file_extension": ".py",
   "mimetype": "text/x-python",
   "name": "python",
   "nbconvert_exporter": "python",
   "pygments_lexer": "ipython3",
   "version": "3.7.0"
  }
 },
 "nbformat": 4,
 "nbformat_minor": 2
}
