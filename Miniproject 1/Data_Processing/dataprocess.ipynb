{
 "cells": [
  {
   "cell_type": "code",
   "execution_count": 3,
   "metadata": {},
   "outputs": [],
   "source": [
    "%matplotlib inline\n",
    "import pandas as pd\n",
    "import numpy as np\n",
    "import matplotlib.pyplot as plt\n",
    "from scipy import stats\n",
    "import seaborn as sns\n",
    "import statsmodels.api as sm\n"
   ]
  },
  {
   "cell_type": "code",
   "execution_count": 4,
   "metadata": {},
   "outputs": [],
   "source": [
    "def featureDesign(features):\n",
    "    features[5] = features[5]/features[6] # A ratio of free sulphur to total sulphur\n",
    "    features[5] = round(features[5], 4) # Rounds the ration into 4 decimal points. Potential ERROR!!\n",
    "    features.pop(6) # TODO: Consider putting it in the main fuction\n",
    "    return features\n",
    "    "
   ]
  },
  {
   "cell_type": "code",
   "execution_count": 5,
   "metadata": {},
   "outputs": [],
   "source": [
    "def binaryOutput(features):\n",
    "    if(features[11] > 5):\n",
    "        features[11] = 1.0 # One implies positive\n",
    "    else:\n",
    "        features[11] = 0.0\n",
    "    return features"
   ]
  },
  {
   "cell_type": "code",
   "execution_count": 6,
   "metadata": {},
   "outputs": [
    {
     "name": "stdout",
     "output_type": "stream",
     "text": [
      "[[0.]\n",
      " [0.]\n",
      " [0.]\n",
      " ...\n",
      " [1.]\n",
      " [0.]\n",
      " [1.]]\n",
      "(1599, 1)\n",
      "[[ 7.4    0.7    0.    ...  3.51   0.56   9.4  ]\n",
      " [ 7.8    0.88   0.    ...  3.2    0.68   9.8  ]\n",
      " [ 7.8    0.76   0.04  ...  3.26   0.65   9.8  ]\n",
      " ...\n",
      " [ 6.3    0.51   0.13  ...  3.42   0.75  11.   ]\n",
      " [ 5.9    0.645  0.12  ...  3.57   0.71  10.2  ]\n",
      " [ 6.     0.31   0.47  ...  3.39   0.66  11.   ]]\n",
      "(1599, 10)\n"
     ]
    }
   ],
   "source": [
    "with open('winequality-red.csv') as wineFile:\n",
    "    content = wineFile.readline()\n",
    "    wine_feature_matrix = list()\n",
    "    wine_output_matrix = list()\n",
    "    # Reads the file line by line\n",
    "    for line in wineFile:\n",
    "        output = list()\n",
    "        line = ''.join(line) # Creates a string\n",
    "        OrigWineMatrix =line.split(';')\n",
    "        \n",
    "        # Removes all the white spaces \n",
    "        OrigWineMatrix = [x.strip() for x in OrigWineMatrix]   \n",
    "        # Converts all the strings into float\n",
    "        OrigWineMatrix = list(map(float, OrigWineMatrix)) \n",
    "        \n",
    "        # Classifies all wine qualities into positive if > 5 otherwise negative\n",
    "        OrigWineMatrix = binaryOutput(OrigWineMatrix) \n",
    "        \n",
    "        output.append(OrigWineMatrix[11])\n",
    "        OrigWineMatrix.pop(11)\n",
    "        # Create a list of a list of each output i.e [1], [0], [1]\n",
    "        wine_output_matrix.append(output) \n",
    "        #print(wine_output_matrix)\n",
    "        \n",
    "        wine_feature_matrix.append(featureDesign(OrigWineMatrix))\n",
    "    #print(wine_matrix, type(wine_matrix))\n",
    "    \n",
    "    wine_output_matrix = np.array(wine_output_matrix) # Create an array of outputs\n",
    "    wine_feature_matrix = np.array(wine_feature_matrix) # Create a array of features using numpy for matrix calculations\n",
    "    \n",
    "    #wine_output_matrix = wine_output_matrix.transpose()\n",
    "    \n",
    "    print(wine_output_matrix)\n",
    "    print(wine_output_matrix.shape)\n",
    "    print(wine_feature_matrix)\n",
    "    print(wine_feature_matrix.shape)"
   ]
  },
  {
   "cell_type": "code",
   "execution_count": 14,
   "metadata": {},
   "outputs": [],
   "source": [
    "alpha = 0.05 # Stepsize/learning rate\n",
    "iterations = 750 # Number of times we go through the gradient descent logic\n",
    "\n",
    "class LogisticRegression:\n",
    "    def gradient_descent(self, feature_matrix, output_matrix):\n",
    "        #Initialize weight_matrix to 1s\n",
    "        weights_matrix = np.ones((np.shape(feature_matrix)[1], 1))\n",
    "        print(weights_matrix.shape)\n",
    "        for i in range(iterations):\n",
    "            first = (self.logistic(feature_matrix * weights_matrix.transpose()) - output_matrix)\n",
    "            second = alpha * feature_matrix * first\n",
    "            weights_matrix = weights_matrix - second\n",
    "            #weights_matrix = weights_matrix - alpha * feature_matrix.transpose() * (self.logistic(feature_matrix * weights_matrix) - output_matrix)\n",
    "            \n",
    "        return weights_matrix\n",
    "    \n",
    "    def binary_classify(self, feature_matrix, weights_matrix):\n",
    "        probs = self.logistic(sum(feature_matrix * weights_matrix))\n",
    "        \n",
    "        result = \"Probability = \" + probs.__str__() + \" | classified as negative\"\n",
    "        \n",
    "        if(probs > 0.5): result = \"Probability = \" + probs.__str__() + \" | classified as positive\"\n",
    "            \n",
    "        return result\n",
    "    def logistic(self, a): return 1.0 / (1 + np.exp(-a)) # P(y=1|x) formula"
   ]
  },
  {
   "cell_type": "code",
   "execution_count": 12,
   "metadata": {},
   "outputs": [
    {
     "name": "stdout",
     "output_type": "stream",
     "text": [
      "(10, 1)\n"
     ]
    },
    {
     "ename": "ValueError",
     "evalue": "operands could not be broadcast together with shapes (1599,10) (10,1) ",
     "output_type": "error",
     "traceback": [
      "\u001b[1;31m---------------------------------------------------------------------------\u001b[0m",
      "\u001b[1;31mValueError\u001b[0m                                Traceback (most recent call last)",
      "\u001b[1;32m<ipython-input-12-32d1e0f11a47>\u001b[0m in \u001b[0;36m<module>\u001b[1;34m()\u001b[0m\n\u001b[0;32m      1\u001b[0m \u001b[0mlogisticRegression\u001b[0m \u001b[1;33m=\u001b[0m \u001b[0mLogisticRegression\u001b[0m\u001b[1;33m(\u001b[0m\u001b[1;33m)\u001b[0m\u001b[1;33m\u001b[0m\u001b[0m\n\u001b[0;32m      2\u001b[0m \u001b[1;33m\u001b[0m\u001b[0m\n\u001b[1;32m----> 3\u001b[1;33m \u001b[0mweights_result\u001b[0m \u001b[1;33m=\u001b[0m \u001b[0mlogisticRegression\u001b[0m\u001b[1;33m.\u001b[0m\u001b[0mgradient_descent\u001b[0m\u001b[1;33m(\u001b[0m\u001b[0mwine_feature_matrix\u001b[0m\u001b[1;33m,\u001b[0m \u001b[0mwine_output_matrix\u001b[0m\u001b[1;33m.\u001b[0m\u001b[0mtranspose\u001b[0m\u001b[1;33m(\u001b[0m\u001b[1;33m)\u001b[0m\u001b[1;33m)\u001b[0m\u001b[1;33m\u001b[0m\u001b[0m\n\u001b[0m",
      "\u001b[1;32m<ipython-input-11-07fe38e3664c>\u001b[0m in \u001b[0;36mgradient_descent\u001b[1;34m(self, feature_matrix, output_matrix)\u001b[0m\n\u001b[0;32m      8\u001b[0m         \u001b[0mprint\u001b[0m\u001b[1;33m(\u001b[0m\u001b[0mweights_matrix\u001b[0m\u001b[1;33m.\u001b[0m\u001b[0mshape\u001b[0m\u001b[1;33m)\u001b[0m\u001b[1;33m\u001b[0m\u001b[0m\n\u001b[0;32m      9\u001b[0m         \u001b[1;32mfor\u001b[0m \u001b[0mi\u001b[0m \u001b[1;32min\u001b[0m \u001b[0mrange\u001b[0m\u001b[1;33m(\u001b[0m\u001b[0miterations\u001b[0m\u001b[1;33m)\u001b[0m\u001b[1;33m:\u001b[0m\u001b[1;33m\u001b[0m\u001b[0m\n\u001b[1;32m---> 10\u001b[1;33m             \u001b[0mfirst\u001b[0m \u001b[1;33m=\u001b[0m \u001b[1;33m(\u001b[0m\u001b[0mself\u001b[0m\u001b[1;33m.\u001b[0m\u001b[0mlogistic\u001b[0m\u001b[1;33m(\u001b[0m\u001b[0mfeature_matrix\u001b[0m \u001b[1;33m*\u001b[0m \u001b[0mweights_matrix\u001b[0m\u001b[1;33m)\u001b[0m \u001b[1;33m-\u001b[0m \u001b[0moutput_matrix\u001b[0m\u001b[1;33m)\u001b[0m\u001b[1;33m\u001b[0m\u001b[0m\n\u001b[0m\u001b[0;32m     11\u001b[0m             \u001b[0msecond\u001b[0m \u001b[1;33m=\u001b[0m \u001b[0malpha\u001b[0m \u001b[1;33m*\u001b[0m \u001b[0mfeature_matrix\u001b[0m \u001b[1;33m*\u001b[0m \u001b[0mfirst\u001b[0m\u001b[1;33m\u001b[0m\u001b[0m\n\u001b[0;32m     12\u001b[0m             \u001b[0mweights_matrix\u001b[0m \u001b[1;33m=\u001b[0m \u001b[0mweights_matrix\u001b[0m \u001b[1;33m-\u001b[0m \u001b[0msecond\u001b[0m\u001b[1;33m\u001b[0m\u001b[0m\n",
      "\u001b[1;31mValueError\u001b[0m: operands could not be broadcast together with shapes (1599,10) (10,1) "
     ]
    }
   ],
   "source": [
    "logisticRegression = LogisticRegression()\n",
    "\n",
    "weights_result = logisticRegression.gradient_descent(wine_feature_matrix, wine_output_matrix.transpose())"
   ]
  },
  {
   "cell_type": "code",
   "execution_count": null,
   "metadata": {},
   "outputs": [],
   "source": []
  },
  {
   "cell_type": "code",
   "execution_count": null,
   "metadata": {},
   "outputs": [],
   "source": []
  }
 ],
 "metadata": {
  "kernelspec": {
   "display_name": "Python 3",
   "language": "python",
   "name": "python3"
  },
  "language_info": {
   "codemirror_mode": {
    "name": "ipython",
    "version": 3
   },
   "file_extension": ".py",
   "mimetype": "text/x-python",
   "name": "python",
   "nbconvert_exporter": "python",
   "pygments_lexer": "ipython3",
   "version": "3.7.0"
  }
 },
 "nbformat": 4,
 "nbformat_minor": 2
}
