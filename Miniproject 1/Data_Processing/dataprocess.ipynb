{
 "cells": [
  {
   "cell_type": "code",
   "execution_count": 370,
   "metadata": {},
   "outputs": [],
   "source": [
    "%matplotlib inline\n",
    "import pandas as pd\n",
    "import numpy as np\n",
    "import matplotlib.pyplot as plt\n",
    "from scipy import stats\n",
    "import seaborn as sns\n",
    "import statsmodels.api as sm\n",
    "import math\n"
   ]
  },
  {
   "cell_type": "code",
   "execution_count": 419,
   "metadata": {},
   "outputs": [],
   "source": [
    "def toBinary(dataframe):\n",
    "    return 1.0 if dataframe > 3.0 else 0.0"
   ]
  },
  {
   "cell_type": "code",
   "execution_count": 472,
   "metadata": {},
   "outputs": [
    {
     "name": "stdout",
     "output_type": "stream",
     "text": [
      "(683, 10)\n",
      "(546, 10)\n"
     ]
    }
   ],
   "source": [
    "b_cancer_df = pd.read_csv('breast-cancer-wisconsin.data', header=None)\n",
    "\n",
    "b_cancer_df = b_cancer_df.drop(0, axis=1)\n",
    "\n",
    "b_cancer_df.dropna(inplace=True) # Drops NA values\n",
    "b_cancer_df.reset_index(drop=True,inplace=True) # Resets indices\n",
    "\n",
    "b_cancer_df = b_cancer_df.drop(b_cancer_df[b_cancer_df[6] == '?'].index) \n",
    "\n",
    "b_cancer_df[10] = list(map(toBinary, b_cancer_df[10]))\n",
    "#print(b_cancer_df)\n",
    "#train test split\n",
    "train = b_cancer_df.sample(frac=0.7, random_state=1)\n",
    "test_set = b_cancer_df.drop(train.index)\n",
    "\n",
    "#split test set to validation and test\n",
    "test = test_set.sample(frac=0.6, random_state=1)\n",
    "val = test_set.drop(test.index)\n"
   ]
  },
  {
   "cell_type": "code",
   "execution_count": 421,
   "metadata": {},
   "outputs": [],
   "source": [
    "def array2d(y_val):\n",
    "    result = list()\n",
    "    for element in y_val:\n",
    "        output = list()\n",
    "        output.append(element)        \n",
    "        result.append(output)\n",
    "    return result\n",
    "        "
   ]
  },
  {
   "cell_type": "code",
   "execution_count": 422,
   "metadata": {},
   "outputs": [],
   "source": [
    "X_train = np.array(train.drop(10, 1).values,dtype=np.float32)\n",
    "y_train = np.array(array2d(train[10].values))\n",
    "\n"
   ]
  },
  {
   "cell_type": "code",
   "execution_count": 423,
   "metadata": {},
   "outputs": [],
   "source": [
    "X_test = np.array(test.drop(10, 1).values,dtype=np.float32)\n",
    "y_test = np.array(array2d(test[10].values))\n"
   ]
  },
  {
   "cell_type": "code",
   "execution_count": 424,
   "metadata": {},
   "outputs": [
    {
     "name": "stdout",
     "output_type": "stream",
     "text": [
      "<class 'numpy.ndarray'>\n",
      "(82, 1)\n"
     ]
    }
   ],
   "source": [
    "X_val = np.array(val.drop(10, 1).values, dtype=np.float32)\n",
    "y_val = np.array(array2d(val[10].values))\n",
    "print(type(y_val[0]))\n",
    "print(y_val.shape)"
   ]
  },
  {
   "cell_type": "code",
   "execution_count": null,
   "metadata": {},
   "outputs": [],
   "source": [
    "def kfold_crossvalidation(folds, train_set):\n",
    "    trainset_array = np.array_split(train_set, folds)\n",
    "    \n",
    "    for i in range(folds):\n",
    "        _lda = LDA()\n",
    "        X_train = train_set.drop(trainset_array[i].index)\n",
    "        \n",
    "        \n",
    "        X_test = np.array(trainset_array[i].drop(10, 1).values, dtype=np.float32)\n",
    "        y_test = np.array(array2d(trainset_array[i][10].values))\n",
    "        _lda.fit_function(X_val, y_val)\n",
    "        _lda.evaluate_acc()\n",
    "        "
   ]
  },
  {
   "cell_type": "code",
   "execution_count": 425,
   "metadata": {},
   "outputs": [],
   "source": [
    "def featureDesign(features):\n",
    "    features[5] = features[5]/features[6] # A ratio of free sulphur to total sulphur\n",
    "    features[5] = round(features[5], 4) # Rounds the ration into 4 decimal points. Potential ERROR!!    \n",
    "    features.pop(6) # TODO: Consider putting it in the main fuction\n",
    "    features.pop(10)\n",
    "    return features\n",
    "    "
   ]
  },
  {
   "cell_type": "code",
   "execution_count": 426,
   "metadata": {},
   "outputs": [],
   "source": [
    "def binaryOutput(features):\n",
    "    if(features[11] > 5):\n",
    "        features[11] = 1.0 # One implies positive\n",
    "    else:\n",
    "        features[11] = 0.0\n",
    "    return features"
   ]
  },
  {
   "cell_type": "code",
   "execution_count": null,
   "metadata": {},
   "outputs": [],
   "source": []
  },
  {
   "cell_type": "code",
   "execution_count": 427,
   "metadata": {},
   "outputs": [
    {
     "name": "stdout",
     "output_type": "stream",
     "text": [
      "[[0.]\n",
      " [0.]\n",
      " [0.]\n",
      " ...\n",
      " [1.]\n",
      " [0.]\n",
      " [1.]]\n",
      "(1599, 1)\n",
      "[[ 7.4    0.7    0.    ...  3.51   0.56   9.4  ]\n",
      " [ 7.8    0.88   0.    ...  3.2    0.68   9.8  ]\n",
      " [ 7.8    0.76   0.04  ...  3.26   0.65   9.8  ]\n",
      " ...\n",
      " [ 6.3    0.51   0.13  ...  3.42   0.75  11.   ]\n",
      " [ 5.9    0.645  0.12  ...  3.57   0.71  10.2  ]\n",
      " [ 6.     0.31   0.47  ...  3.39   0.66  11.   ]]\n",
      "(1599, 10)\n",
      "0.0\n"
     ]
    }
   ],
   "source": [
    "with open('winequality-red.csv') as wineFile:\n",
    "    content = wineFile.readline()\n",
    "    wine_feature_matrix = list()\n",
    "    wine_output_matrix = list()\n",
    "    # Reads the file line by line\n",
    "    for line in wineFile:\n",
    "        output = list()\n",
    "        line = ''.join(line) # Creates a string\n",
    "        OrigWineMatrix =line.split(';')\n",
    "        \n",
    "        # Removes all the white spaces \n",
    "        OrigWineMatrix = [x.strip() for x in OrigWineMatrix]\n",
    "        \n",
    "        # Converts all the strings into float\n",
    "        OrigWineMatrix = list(map(float, OrigWineMatrix)) \n",
    "        \n",
    "        # Classifies all wine qualities into positive if > 5 otherwise negative\n",
    "        OrigWineMatrix = binaryOutput(OrigWineMatrix) \n",
    "        \n",
    "        output.append(OrigWineMatrix[11])\n",
    "        # Create a list of a list of each output i.e [1], [0], [1]\n",
    "        \n",
    "        wine_output_matrix.append(output) \n",
    "        \n",
    "        wine_feature_matrix.append(featureDesign(OrigWineMatrix))\n",
    "    \n",
    "    \n",
    "    wine_output_matrix = np.array(wine_output_matrix) # Create an array of outputs\n",
    "    wine_feature_matrix = np.array(wine_feature_matrix) # Create a array of features using numpy for matrix calculations\n",
    "    \n",
    "    wineFile.close()\n",
    "    \n",
    "    print(wine_output_matrix)\n",
    "    print(wine_output_matrix.shape)\n",
    "    print(wine_feature_matrix)\n",
    "    print(wine_feature_matrix.shape)\n",
    "    \n",
    "    print(wine_output_matrix[0][0])"
   ]
  },
  {
   "cell_type": "code",
   "execution_count": 428,
   "metadata": {},
   "outputs": [],
   "source": [
    "#alpha = 0.0005 # Stepsize/learning rate\n",
    "#iterations = 750 # Number of times we go through the gradient descent logic\n",
    "\n",
    "class LogisticRegression:\n",
    "    weights = list()\n",
    "    def gradient_descent(self, feature_matrix, output_matrix, learningRate, iterations):\n",
    "        #Initialize weight_matrix to 1s\n",
    "        weights_matrix = np.ones((np.shape(feature_matrix)[1], 1))\n",
    "        print(weights_matrix.shape)\n",
    "        for i in range(iterations):\n",
    "            \n",
    "            weights_matrix = weights_matrix + (learningRate * np.dot(feature_matrix.transpose(), (output_matrix - self.sigmoid(np.dot(feature_matrix, weights_matrix)))))\n",
    "        self.weights.append(weights_matrix)    \n",
    "        return weights_matrix \n",
    "    \n",
    "    def predict(self, inputX):\n",
    "        probs = self.sigmoid(sum(np.dot(inputX, self.weights[0])))\n",
    "        #result = \"Probability = \" + probs.__str__() + \" | classified as negative\"\n",
    "        # \"Probability = \" + probs.__str__() + \" | classified as positive\"\n",
    "        #print(\"Probs = \", probs)\n",
    "        if(probs > 0.5): return 1.0\n",
    "            \n",
    "        return 0.0 \n",
    "    def sigmoid(self, a): return 1.0 / (1 + np.exp(-a)) # P(y=1|x) formula\n",
    "    \n",
    "    #outputs the accuracy score\n",
    "    def evaluate_acc(self, featuresX, target_labels):\n",
    "        false_positive = 0\n",
    "        false_negative = 0\n",
    "        true_positive = 0\n",
    "        true_negative = 0\n",
    "        for i in range(len(target_labels)):\n",
    "            predicted_val = self.predict(featuresX[i])\n",
    "            #\n",
    "            if(math.isclose(predicted_val, target_labels[i])):\n",
    "                if(predicted_val > 0):\n",
    "                   true_positive += 1\n",
    "                else:\n",
    "                   true_negative += 1\n",
    "            else:\n",
    "                if(predicted_val > 0):\n",
    "                   false_positive += 1\n",
    "                else:\n",
    "                   false_negative += 1\n",
    "        print(\"false postive \", false_positive,\"false negative \", false_negative,\"true postive \", true_positive, \"true negative \", true_negative)\n",
    "        \n",
    "        return round((true_positive + true_negative)/ (true_positive + false_positive + false_negative + true_negative) * 100, 2)"
   ]
  },
  {
   "cell_type": "markdown",
   "metadata": {},
   "source": [
    "**Logistic Regression Main**"
   ]
  },
  {
   "cell_type": "code",
   "execution_count": 452,
   "metadata": {},
   "outputs": [
    {
     "name": "stdout",
     "output_type": "stream",
     "text": [
      "(9, 1)\n",
      "false postive  6 false negative  3 true postive  27 true negative  46\n",
      "Logistic Regression =  89.02\n"
     ]
    }
   ],
   "source": [
    "logisticRegression = LogisticRegression()\n",
    "\n",
    "weights_result = logisticRegression.gradient_descent(np.mat(X_train), np.mat(y_train), 0.005, 5000)\n",
    "\n",
    "pred = logisticRegression.predict(X_test[3])\n",
    "\n",
    "eval = logisticRegression.evaluate_acc(X_val, y_val)\n",
    "print(\"Logistic Regression = \", eval)\n"
   ]
  },
  {
   "cell_type": "markdown",
   "metadata": {},
   "source": [
    "**LDA Implementation**"
   ]
  },
  {
   "cell_type": "code",
   "execution_count": 465,
   "metadata": {},
   "outputs": [],
   "source": [
    "class LDA:\n",
    "    logOdds_function = list()\n",
    "    def fit_function(self, feature_matrix, output_matrix):\n",
    "        meansX0 = list()\n",
    "        meansX1 = list()\n",
    "        logOddsResult = self.logOdds(output_matrix)\n",
    "        logOdds = logOddsResult[2]\n",
    "        means_result = self.mean_features(feature_matrix, output_matrix, logOddsResult[0], logOddsResult[1])\n",
    "        covariance = self.covariance_calc(feature_matrix, output_matrix, means_result)\n",
    "        meansX0.append(means_result[0])\n",
    "        meansX1.append(means_result[1])\n",
    "        \n",
    "        function_params = list()\n",
    "        \n",
    "        #frst = 0.5 * means_result[1] * np.linalg.inv(covariance) * means_result[1].transpose()\n",
    "        first = 0.5 * np.dot((np.dot(meansX1,np.linalg.inv(covariance))), np.array(meansX1).transpose())  \n",
    "        second = 0.5 * np.dot((np.dot(meansX0,np.linalg.inv(covariance))), np.array(meansX0).transpose())  \n",
    "        logOddsRatio_part = logOdds - first + second\n",
    "        \n",
    "        function_params.append(logOddsRatio_part) # first part of logodds ratio function - index 0\n",
    "\n",
    "        function_params.append(np.linalg.inv(covariance)) #  index 1\n",
    "        function_params.append(np.array(meansX1) - np.array(meansX0)) #index 2\n",
    "        \n",
    "        self.logOdds_function.append(function_params) # Accessible from anywhere in the class\n",
    "        return function_params\n",
    "    def predict(self, inputX):\n",
    "        function = self.logOdds_function[0]\n",
    "        probs = self.sigmoid(inputX)\n",
    "        \n",
    "        if (probs > 0):\n",
    "            return 1.0\n",
    "        \n",
    "        return 0.0\n",
    "    \n",
    "    def sigmoid(self, inputX):\n",
    "        function = self.logOdds_function[0]\n",
    "        z = list()\n",
    "        first = np.dot(inputX.transpose(), np.array(function[1]))\n",
    "        z.append(first)\n",
    "        \n",
    "        x = function[0] + np.dot(np.array(z), np.array(function[2]).transpose())\n",
    "        return function[0] + np.dot(np.array(z), np.array(function[2]).transpose())\n",
    "\n",
    "                              \n",
    "    def logOdds(self, output_matrix):\n",
    "        positive = 0\n",
    "        negative = 0\n",
    "        result = list()\n",
    "        \n",
    "        # Counts the number of positives to the number of negatives\n",
    "        for element in output_matrix:\n",
    "            if(element[0] > 0): \n",
    "                positive += 1\n",
    "            else: \n",
    "                negative += 1\n",
    "        \n",
    "        # evaluates probability of the different class to evaluate the log Odds ratio\n",
    "        probs_positive = (positive + 1)/(positive + negative + 2)\n",
    "        probs_negative = (negative + 1)/(positive + negative + 2)\n",
    "        \n",
    "        result.append(negative) # Index 0 corresponds to negative \n",
    "        result.append(positive) # Index 1 corresponds to positive \n",
    "        result.append(math.log((probs_positive/probs_negative))) # Index 2 is the ratio result\n",
    "        return result\n",
    "    \n",
    "    def mean_features(self, feature_matrix, output_matrix, num_negatives, num_positives):\n",
    "        output_array = list()\n",
    "        mean_X0 = list()\n",
    "        mean_X1 = list()\n",
    "        \n",
    "        for i in range(len(output_matrix)):\n",
    "            if(output_matrix[i][0] > 0):\n",
    "                mean_X1.append(feature_matrix[i])\n",
    "            else:\n",
    "                mean_X0.append(feature_matrix[i])\n",
    "                    \n",
    "        mean_X0 = np.mean(mean_X0, 0)\n",
    "        mean_X1 = np.mean(mean_X1,0)\n",
    "        \n",
    "        output_array.append(mean_X0)\n",
    "        output_array.append(mean_X1)\n",
    "        \n",
    "        return output_array\n",
    "    \n",
    "    def covariance_calc(self, feature_matrix, output_matrix, mean_features):\n",
    "        matrix_X0 = list()\n",
    "        matrix_X1 = list()\n",
    "\n",
    "        for i in range(len(output_matrix)):\n",
    "            if(output_matrix[i][0] > 0):\n",
    "                matrix_X1.append(feature_matrix[i])\n",
    "            else:\n",
    "                matrix_X0.append(feature_matrix[i])\n",
    "                \n",
    "        matrix_X0 = np.array(matrix_X0)\n",
    "        matrix_X1 = np.array(matrix_X1)\n",
    "        \n",
    "        return np.cov(matrix_X0.transpose()) + np.cov(matrix_X1.transpose())\n",
    "    \n",
    "    #outputs the accuracy score\n",
    "    def evaluate_acc(self, featuresX, target_labels):\n",
    "        count = 0\n",
    "        for i in range(len(target_labels)):\n",
    "            predicted_val = self.predict(featuresX[i])\n",
    "            if(math.isclose(predicted_val, target_labels[i])):\n",
    "                count += 1\n",
    "        \n",
    "        return round((100 * count/len(target_labels)), 2)"
   ]
  },
  {
   "cell_type": "code",
   "execution_count": 466,
   "metadata": {},
   "outputs": [
    {
     "name": "stdout",
     "output_type": "stream",
     "text": [
      "97.5609756097561\n",
      "LDA accuracy =  97.56\n"
     ]
    }
   ],
   "source": [
    "lda = LDA()\n",
    "final = lda.fit_function(X_train, y_train)\n",
    "\n",
    "#Test with a sample of the data\n",
    "result = lda.predict(X_test[0])\n",
    "\n",
    "eval = lda.evaluate_acc(X_test, y_test)\n",
    "print(\"LDA accuracy = \", eval)"
   ]
  },
  {
   "cell_type": "markdown",
   "metadata": {},
   "source": [
    "**Run Experiments**"
   ]
  },
  {
   "cell_type": "code",
   "execution_count": null,
   "metadata": {},
   "outputs": [],
   "source": [
    "\n",
    "    "
   ]
  },
  {
   "cell_type": "code",
   "execution_count": null,
   "metadata": {},
   "outputs": [],
   "source": []
  }
 ],
 "metadata": {
  "kernelspec": {
   "display_name": "Python 3",
   "language": "python",
   "name": "python3"
  },
  "language_info": {
   "codemirror_mode": {
    "name": "ipython",
    "version": 3
   },
   "file_extension": ".py",
   "mimetype": "text/x-python",
   "name": "python",
   "nbconvert_exporter": "python",
   "pygments_lexer": "ipython3",
   "version": "3.7.0"
  }
 },
 "nbformat": 4,
 "nbformat_minor": 2
}
