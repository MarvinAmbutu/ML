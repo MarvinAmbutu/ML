{
 "cells": [
  {
   "cell_type": "code",
   "execution_count": 59,
   "metadata": {},
   "outputs": [],
   "source": [
    "%matplotlib inline\n",
    "import pandas as pd\n",
    "import numpy as np\n",
    "import matplotlib.pyplot as plt\n",
    "from scipy import stats\n",
    "import seaborn as sns\n",
    "import statsmodels.api as sm\n"
   ]
  },
  {
   "cell_type": "code",
   "execution_count": 60,
   "metadata": {},
   "outputs": [],
   "source": [
    "def featureDesign(features):\n",
    "    features[5] = features[5]/features[6] # A ratio of free sulphur to total sulphur\n",
    "    features[5] = round(features[5], 4) # Rounds the ration into 4 decimal points. Potential ERROR!!\n",
    "    \n",
    "    features[11] = 1.0\n",
    "    features.pop(6) # TODO: Consider putting it in the main fuction\n",
    "    return features\n",
    "    "
   ]
  },
  {
   "cell_type": "code",
   "execution_count": 61,
   "metadata": {},
   "outputs": [],
   "source": [
    "def binaryOutput(features):\n",
    "    if(features[11] > 5):\n",
    "        features[11] = 1.0 # One implies positive\n",
    "    else:\n",
    "        features[11] = 0.0\n",
    "    return features"
   ]
  },
  {
   "cell_type": "code",
   "execution_count": 62,
   "metadata": {},
   "outputs": [
    {
     "name": "stdout",
     "output_type": "stream",
     "text": [
      "[[0.]\n",
      " [0.]\n",
      " [0.]\n",
      " ...\n",
      " [1.]\n",
      " [0.]\n",
      " [1.]]\n",
      "(1599, 1)\n",
      "[[ 7.4    0.7    0.    ...  0.56   9.4    1.   ]\n",
      " [ 7.8    0.88   0.    ...  0.68   9.8    1.   ]\n",
      " [ 7.8    0.76   0.04  ...  0.65   9.8    1.   ]\n",
      " ...\n",
      " [ 6.3    0.51   0.13  ...  0.75  11.     1.   ]\n",
      " [ 5.9    0.645  0.12  ...  0.71  10.2    1.   ]\n",
      " [ 6.     0.31   0.47  ...  0.66  11.     1.   ]]\n",
      "(1599, 11)\n"
     ]
    }
   ],
   "source": [
    "with open('winequality-red.csv') as wineFile:\n",
    "    content = wineFile.readline()\n",
    "    wine_feature_matrix = list()\n",
    "    wine_output_matrix = list()\n",
    "    # Reads the file line by line\n",
    "    for line in wineFile:\n",
    "        output = list()\n",
    "        line = ''.join(line) # Creates a string\n",
    "        OrigWineMatrix =line.split(';')\n",
    "        \n",
    "        # Removes all the white spaces \n",
    "        OrigWineMatrix = [x.strip() for x in OrigWineMatrix]\n",
    "        \n",
    "        # Converts all the strings into float\n",
    "        OrigWineMatrix = list(map(float, OrigWineMatrix)) \n",
    "        \n",
    "        # Classifies all wine qualities into positive if > 5 otherwise negative\n",
    "        OrigWineMatrix = binaryOutput(OrigWineMatrix) \n",
    "        \n",
    "        output.append(OrigWineMatrix[11])\n",
    "        # Create a list of a list of each output i.e [1], [0], [1]\n",
    "        \n",
    "        wine_output_matrix.append(output) \n",
    "        #print(wine_output_matrix)\n",
    "        \n",
    "        wine_feature_matrix.append(featureDesign(OrigWineMatrix))\n",
    "    #print(wine_matrix, type(wine_matrix))\n",
    "    \n",
    "    wine_output_matrix = np.array(wine_output_matrix) # Create an array of outputs\n",
    "    wine_feature_matrix = np.array(wine_feature_matrix) # Create a array of features using numpy for matrix calculations\n",
    "    \n",
    "    #wine_output_matrix = wine_output_matrix.transpose()\n",
    "    \n",
    "    print(wine_output_matrix)\n",
    "    print(wine_output_matrix.shape)\n",
    "    print(wine_feature_matrix)\n",
    "    print(wine_feature_matrix.shape)"
   ]
  },
  {
   "cell_type": "code",
   "execution_count": 67,
   "metadata": {},
   "outputs": [],
   "source": [
    "alpha = 0.0005 # Stepsize/learning rate\n",
    "iterations = 750 # Number of times we go through the gradient descent logic\n",
    "\n",
    "class LogisticRegression:\n",
    "    def gradient_descent(self, feature_matrix, output_matrix):\n",
    "        #Initialize weight_matrix to 1s\n",
    "        weights_matrix = np.ones((np.shape(feature_matrix)[1], 1))\n",
    "        print(weights_matrix.shape)\n",
    "        for i in range(iterations):\n",
    "            \n",
    "            weights_matrix = weights_matrix + (alpha * feature_matrix.transpose() * (output_matrix - self.sigmoid(feature_matrix * weights_matrix)))\n",
    "            \n",
    "        return weights_matrix\n",
    "    \n",
    "    def predict(self, feature_matrix, weights_matrix):\n",
    "        probs = self.logistic(sum(feature_matrix * weights_matrix))\n",
    "        \n",
    "        result = \"Probability = \" + probs.__str__() + \" | classified as negative\"\n",
    "        \n",
    "        if(probs > 0.5): result = \"Probability = \" + probs.__str__() + \" | classified as positive\"\n",
    "            \n",
    "        return result \n",
    "    def sigmoid(self, a): return 1.0 / (1 + np.exp(-a)) # P(y=1|x) formula\n",
    "    \n",
    "    #outputs the accuracy score\n",
    "    def evaluate_acc(self, featuresX, true_labels, target_labels): \n",
    "        return 1"
   ]
  },
  {
   "cell_type": "code",
   "execution_count": 64,
   "metadata": {},
   "outputs": [
    {
     "name": "stdout",
     "output_type": "stream",
     "text": [
      "(11, 1)\n",
      "[[  1.2747123 ]\n",
      " [-17.35864715]\n",
      " [  7.13535692]\n",
      " [ -3.5774755 ]\n",
      " [ -0.8094604 ]\n",
      " [  6.93300796]\n",
      " [ -6.8858674 ]\n",
      " [-26.19537547]\n",
      " [  5.8402378 ]\n",
      " [ 14.31396183]\n",
      " [ -6.88372392]]\n"
     ]
    }
   ],
   "source": [
    "logisticRegression = LogisticRegression()\n",
    "\n",
    "weights_result = logisticRegression.gradient_descent(np.mat(wine_feature_matrix), np.mat(wine_output_matrix))\n",
    "print(weights_result)\n",
    "\n",
    "logisticRegression.predict\n"
   ]
  },
  {
   "cell_type": "code",
   "execution_count": null,
   "metadata": {},
   "outputs": [],
   "source": []
  },
  {
   "cell_type": "code",
   "execution_count": null,
   "metadata": {},
   "outputs": [],
   "source": []
  }
 ],
 "metadata": {
  "kernelspec": {
   "display_name": "Python 3",
   "language": "python",
   "name": "python3"
  },
  "language_info": {
   "codemirror_mode": {
    "name": "ipython",
    "version": 3
   },
   "file_extension": ".py",
   "mimetype": "text/x-python",
   "name": "python",
   "nbconvert_exporter": "python",
   "pygments_lexer": "ipython3",
   "version": "3.7.0"
  }
 },
 "nbformat": 4,
 "nbformat_minor": 2
}
