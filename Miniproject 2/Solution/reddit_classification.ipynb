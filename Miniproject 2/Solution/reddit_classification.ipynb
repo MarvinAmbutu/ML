{
 "cells": [
  {
   "cell_type": "code",
   "execution_count": 1,
   "metadata": {},
   "outputs": [],
   "source": [
    "%matplotlib inline\n",
    "import pandas as pd\n",
    "import matplotlib.pyplot as plt\n",
    "import numpy as np\n",
    "import seaborn as sns\n",
    "import math\n",
    "import nltk"
   ]
  },
  {
   "cell_type": "code",
   "execution_count": 2,
   "metadata": {},
   "outputs": [],
   "source": [
    "from nltk.stem import WordNetLemmatizer\n",
    "# Init the Wordnet Lemmatizer\n",
    "lemmatizer = WordNetLemmatizer()"
   ]
  },
  {
   "cell_type": "code",
   "execution_count": 3,
   "metadata": {},
   "outputs": [],
   "source": [
    "reddit_train = pd.read_csv('reddit_train.csv', index_col=0)\n",
    "#reddit_train = reddit_train.drop(0, axis=1) # Removes the id's column"
   ]
  },
  {
   "cell_type": "code",
   "execution_count": 4,
   "metadata": {},
   "outputs": [
    {
     "data": {
      "text/html": [
       "<div>\n",
       "<style scoped>\n",
       "    .dataframe tbody tr th:only-of-type {\n",
       "        vertical-align: middle;\n",
       "    }\n",
       "\n",
       "    .dataframe tbody tr th {\n",
       "        vertical-align: top;\n",
       "    }\n",
       "\n",
       "    .dataframe thead th {\n",
       "        text-align: right;\n",
       "    }\n",
       "</style>\n",
       "<table border=\"1\" class=\"dataframe\">\n",
       "  <thead>\n",
       "    <tr style=\"text-align: right;\">\n",
       "      <th></th>\n",
       "      <th>comments</th>\n",
       "      <th>subreddits</th>\n",
       "    </tr>\n",
       "    <tr>\n",
       "      <th>id</th>\n",
       "      <th></th>\n",
       "      <th></th>\n",
       "    </tr>\n",
       "  </thead>\n",
       "  <tbody>\n",
       "    <tr>\n",
       "      <td>0</td>\n",
       "      <td>Honestly, Buffalo is the correct answer. I rem...</td>\n",
       "      <td>hockey</td>\n",
       "    </tr>\n",
       "    <tr>\n",
       "      <td>1</td>\n",
       "      <td>Ah yes way could have been :( remember when he...</td>\n",
       "      <td>nba</td>\n",
       "    </tr>\n",
       "    <tr>\n",
       "      <td>2</td>\n",
       "      <td>https://youtu.be/6xxbBR8iSZ0?t=40m49s\\n\\nIf yo...</td>\n",
       "      <td>leagueoflegends</td>\n",
       "    </tr>\n",
       "    <tr>\n",
       "      <td>3</td>\n",
       "      <td>He wouldn't have been a bad signing if we woul...</td>\n",
       "      <td>soccer</td>\n",
       "    </tr>\n",
       "    <tr>\n",
       "      <td>4</td>\n",
       "      <td>Easy. You use the piss and dry technique. Let ...</td>\n",
       "      <td>funny</td>\n",
       "    </tr>\n",
       "  </tbody>\n",
       "</table>\n",
       "</div>"
      ],
      "text/plain": [
       "                                             comments       subreddits\n",
       "id                                                                    \n",
       "0   Honestly, Buffalo is the correct answer. I rem...           hockey\n",
       "1   Ah yes way could have been :( remember when he...              nba\n",
       "2   https://youtu.be/6xxbBR8iSZ0?t=40m49s\\n\\nIf yo...  leagueoflegends\n",
       "3   He wouldn't have been a bad signing if we woul...           soccer\n",
       "4   Easy. You use the piss and dry technique. Let ...            funny"
      ]
     },
     "execution_count": 4,
     "metadata": {},
     "output_type": "execute_result"
    }
   ],
   "source": [
    "reddit_train.head()"
   ]
  },
  {
   "cell_type": "code",
   "execution_count": 5,
   "metadata": {},
   "outputs": [
    {
     "data": {
      "text/plain": [
       "re.compile(r\"\\b(isn't|aren't|wasn't|weren't|haven't|hasn't|hadn't|won't|wouldn't|don't|doesn't|didn't|can't|couldn't|shouldn't|mightn't|mustn't)\\b\",\n",
       "re.UNICODE)"
      ]
     },
     "execution_count": 5,
     "metadata": {},
     "output_type": "execute_result"
    }
   ],
   "source": [
    "from nltk import WordPunctTokenizer\n",
    "tok = WordPunctTokenizer()\n",
    "import re\n",
    "\n",
    "negations_dict = {\"isn't\":\"is not\", \"aren't\":\"are not\", \"wasn't\":\"was not\", \"weren't\":\"were not\",\n",
    "                \"haven't\":\"have not\",\"hasn't\":\"has not\",\"hadn't\":\"had not\",\"won't\":\"will not\",\n",
    "                \"wouldn't\":\"would not\", \"don't\":\"do not\", \"doesn't\":\"does not\",\"didn't\":\"did not\",\n",
    "                \"can't\":\"can not\",\"couldn't\":\"could not\",\"shouldn't\":\"should not\",\"mightn't\":\"might not\",\n",
    "                \"mustn't\":\"must not\"}\n",
    "\n",
    "neg_pattern = re.compile(r'\\b(' + '|'.join(negations_dict.keys()) + r')\\b')\n",
    "neg_pattern"
   ]
  },
  {
   "cell_type": "code",
   "execution_count": 6,
   "metadata": {},
   "outputs": [],
   "source": [
    "def comment_cleaner(text):\n",
    "    letters = re.sub(\"[^a-zA-Z]\",\" \",str(text))\n",
    "    lower_case = letters.lower()\n",
    "    neg_handled = neg_pattern.sub(lambda x: negations_dict[x.group()],lower_case)\n",
    "    \n",
    "    #remove unnecessary white spaces by tokenizing and joining back\n",
    "    words = tok.tokenize(neg_handled)\n",
    "    \n",
    "    #Lemmatization\n",
    "    lemmatized_output = ' '.join([lemmatizer.lemmatize(w) for w in words]) # Very expensive\n",
    "    return lemmatized_output.strip() "
   ]
  },
  {
   "cell_type": "code",
   "execution_count": 7,
   "metadata": {},
   "outputs": [
    {
     "name": "stdout",
     "output_type": "stream",
     "text": [
      "<class 'pandas.core.frame.DataFrame'>\n",
      "RangeIndex: 70000 entries, 0 to 69999\n",
      "Data columns (total 2 columns):\n",
      "comments      70000 non-null object\n",
      "subreddits    70000 non-null object\n",
      "dtypes: object(2)\n",
      "memory usage: 1.1+ MB\n"
     ]
    }
   ],
   "source": [
    "reddit_train.dropna(inplace=True)\n",
    "reddit_train.reset_index(drop=True,inplace=True)\n",
    "reddit_train.info()"
   ]
  },
  {
   "cell_type": "code",
   "execution_count": 8,
   "metadata": {},
   "outputs": [
    {
     "data": {
      "text/html": [
       "<div>\n",
       "<style scoped>\n",
       "    .dataframe tbody tr th:only-of-type {\n",
       "        vertical-align: middle;\n",
       "    }\n",
       "\n",
       "    .dataframe tbody tr th {\n",
       "        vertical-align: top;\n",
       "    }\n",
       "\n",
       "    .dataframe thead th {\n",
       "        text-align: right;\n",
       "    }\n",
       "</style>\n",
       "<table border=\"1\" class=\"dataframe\">\n",
       "  <thead>\n",
       "    <tr style=\"text-align: right;\">\n",
       "      <th></th>\n",
       "      <th>comments</th>\n",
       "      <th>subreddits</th>\n",
       "    </tr>\n",
       "  </thead>\n",
       "  <tbody>\n",
       "    <tr>\n",
       "      <td>0</td>\n",
       "      <td>Honestly, Buffalo is the correct answer. I rem...</td>\n",
       "      <td>hockey</td>\n",
       "    </tr>\n",
       "    <tr>\n",
       "      <td>1</td>\n",
       "      <td>Ah yes way could have been :( remember when he...</td>\n",
       "      <td>nba</td>\n",
       "    </tr>\n",
       "    <tr>\n",
       "      <td>2</td>\n",
       "      <td>https://youtu.be/6xxbBR8iSZ0?t=40m49s\\n\\nIf yo...</td>\n",
       "      <td>leagueoflegends</td>\n",
       "    </tr>\n",
       "    <tr>\n",
       "      <td>3</td>\n",
       "      <td>He wouldn't have been a bad signing if we woul...</td>\n",
       "      <td>soccer</td>\n",
       "    </tr>\n",
       "    <tr>\n",
       "      <td>4</td>\n",
       "      <td>Easy. You use the piss and dry technique. Let ...</td>\n",
       "      <td>funny</td>\n",
       "    </tr>\n",
       "  </tbody>\n",
       "</table>\n",
       "</div>"
      ],
      "text/plain": [
       "                                            comments       subreddits\n",
       "0  Honestly, Buffalo is the correct answer. I rem...           hockey\n",
       "1  Ah yes way could have been :( remember when he...              nba\n",
       "2  https://youtu.be/6xxbBR8iSZ0?t=40m49s\\n\\nIf yo...  leagueoflegends\n",
       "3  He wouldn't have been a bad signing if we woul...           soccer\n",
       "4  Easy. You use the piss and dry technique. Let ...            funny"
      ]
     },
     "execution_count": 8,
     "metadata": {},
     "output_type": "execute_result"
    }
   ],
   "source": [
    "reddit_train.head()"
   ]
  },
  {
   "cell_type": "code",
   "execution_count": 9,
   "metadata": {},
   "outputs": [
    {
     "name": "stdout",
     "output_type": "stream",
     "text": [
      "Cleaning and parsing  comments\n",
      "Wall time: 23.5 s\n"
     ]
    }
   ],
   "source": [
    "%%time\n",
    "#Cleaning the data\n",
    "print(\"Cleaning and parsing  comments\")\n",
    "clean_comments = []\n",
    "for x in reddit_train['comments']:\n",
    "    clean_comments.append(comment_cleaner(x))"
   ]
  },
  {
   "cell_type": "code",
   "execution_count": 10,
   "metadata": {},
   "outputs": [],
   "source": [
    "#Create a column of clean comments\n",
    "reddit_train['clean_comments'] = clean_comments "
   ]
  },
  {
   "cell_type": "code",
   "execution_count": 11,
   "metadata": {},
   "outputs": [
    {
     "data": {
      "text/html": [
       "<div>\n",
       "<style scoped>\n",
       "    .dataframe tbody tr th:only-of-type {\n",
       "        vertical-align: middle;\n",
       "    }\n",
       "\n",
       "    .dataframe tbody tr th {\n",
       "        vertical-align: top;\n",
       "    }\n",
       "\n",
       "    .dataframe thead th {\n",
       "        text-align: right;\n",
       "    }\n",
       "</style>\n",
       "<table border=\"1\" class=\"dataframe\">\n",
       "  <thead>\n",
       "    <tr style=\"text-align: right;\">\n",
       "      <th></th>\n",
       "      <th>comments</th>\n",
       "      <th>subreddits</th>\n",
       "      <th>clean_comments</th>\n",
       "    </tr>\n",
       "  </thead>\n",
       "  <tbody>\n",
       "    <tr>\n",
       "      <td>0</td>\n",
       "      <td>Honestly, Buffalo is the correct answer. I rem...</td>\n",
       "      <td>hockey</td>\n",
       "      <td>honestly buffalo is the correct answer i remem...</td>\n",
       "    </tr>\n",
       "    <tr>\n",
       "      <td>1</td>\n",
       "      <td>Ah yes way could have been :( remember when he...</td>\n",
       "      <td>nba</td>\n",
       "      <td>ah yes way could have been remember when he wa...</td>\n",
       "    </tr>\n",
       "    <tr>\n",
       "      <td>2</td>\n",
       "      <td>https://youtu.be/6xxbBR8iSZ0?t=40m49s\\n\\nIf yo...</td>\n",
       "      <td>leagueoflegends</td>\n",
       "      <td>http youtu be xxbbr isz t m s if you didn t fi...</td>\n",
       "    </tr>\n",
       "    <tr>\n",
       "      <td>3</td>\n",
       "      <td>He wouldn't have been a bad signing if we woul...</td>\n",
       "      <td>soccer</td>\n",
       "      <td>he wouldn t have been a bad signing if we woul...</td>\n",
       "    </tr>\n",
       "    <tr>\n",
       "      <td>4</td>\n",
       "      <td>Easy. You use the piss and dry technique. Let ...</td>\n",
       "      <td>funny</td>\n",
       "      <td>easy you use the piss and dry technique let a ...</td>\n",
       "    </tr>\n",
       "  </tbody>\n",
       "</table>\n",
       "</div>"
      ],
      "text/plain": [
       "                                            comments       subreddits  \\\n",
       "0  Honestly, Buffalo is the correct answer. I rem...           hockey   \n",
       "1  Ah yes way could have been :( remember when he...              nba   \n",
       "2  https://youtu.be/6xxbBR8iSZ0?t=40m49s\\n\\nIf yo...  leagueoflegends   \n",
       "3  He wouldn't have been a bad signing if we woul...           soccer   \n",
       "4  Easy. You use the piss and dry technique. Let ...            funny   \n",
       "\n",
       "                                      clean_comments  \n",
       "0  honestly buffalo is the correct answer i remem...  \n",
       "1  ah yes way could have been remember when he wa...  \n",
       "2  http youtu be xxbbr isz t m s if you didn t fi...  \n",
       "3  he wouldn t have been a bad signing if we woul...  \n",
       "4  easy you use the piss and dry technique let a ...  "
      ]
     },
     "execution_count": 11,
     "metadata": {},
     "output_type": "execute_result"
    }
   ],
   "source": [
    "reddit_train.head()"
   ]
  },
  {
   "cell_type": "code",
   "execution_count": 12,
   "metadata": {},
   "outputs": [],
   "source": [
    "#Drops the raw comments column\n",
    "reddit_train.drop('comments',1,inplace=True)"
   ]
  },
  {
   "cell_type": "code",
   "execution_count": 13,
   "metadata": {},
   "outputs": [
    {
     "data": {
      "text/html": [
       "<div>\n",
       "<style scoped>\n",
       "    .dataframe tbody tr th:only-of-type {\n",
       "        vertical-align: middle;\n",
       "    }\n",
       "\n",
       "    .dataframe tbody tr th {\n",
       "        vertical-align: top;\n",
       "    }\n",
       "\n",
       "    .dataframe thead th {\n",
       "        text-align: right;\n",
       "    }\n",
       "</style>\n",
       "<table border=\"1\" class=\"dataframe\">\n",
       "  <thead>\n",
       "    <tr style=\"text-align: right;\">\n",
       "      <th></th>\n",
       "      <th>subreddits</th>\n",
       "      <th>clean_comments</th>\n",
       "    </tr>\n",
       "  </thead>\n",
       "  <tbody>\n",
       "    <tr>\n",
       "      <td>0</td>\n",
       "      <td>hockey</td>\n",
       "      <td>honestly buffalo is the correct answer i remem...</td>\n",
       "    </tr>\n",
       "    <tr>\n",
       "      <td>1</td>\n",
       "      <td>nba</td>\n",
       "      <td>ah yes way could have been remember when he wa...</td>\n",
       "    </tr>\n",
       "    <tr>\n",
       "      <td>2</td>\n",
       "      <td>leagueoflegends</td>\n",
       "      <td>http youtu be xxbbr isz t m s if you didn t fi...</td>\n",
       "    </tr>\n",
       "    <tr>\n",
       "      <td>3</td>\n",
       "      <td>soccer</td>\n",
       "      <td>he wouldn t have been a bad signing if we woul...</td>\n",
       "    </tr>\n",
       "    <tr>\n",
       "      <td>4</td>\n",
       "      <td>funny</td>\n",
       "      <td>easy you use the piss and dry technique let a ...</td>\n",
       "    </tr>\n",
       "  </tbody>\n",
       "</table>\n",
       "</div>"
      ],
      "text/plain": [
       "        subreddits                                     clean_comments\n",
       "0           hockey  honestly buffalo is the correct answer i remem...\n",
       "1              nba  ah yes way could have been remember when he wa...\n",
       "2  leagueoflegends  http youtu be xxbbr isz t m s if you didn t fi...\n",
       "3           soccer  he wouldn t have been a bad signing if we woul...\n",
       "4            funny  easy you use the piss and dry technique let a ..."
      ]
     },
     "execution_count": 13,
     "metadata": {},
     "output_type": "execute_result"
    }
   ],
   "source": [
    "reddit_train.head()"
   ]
  },
  {
   "cell_type": "code",
   "execution_count": 14,
   "metadata": {},
   "outputs": [],
   "source": [
    "reddit_train['subreddit-id'] = reddit_train['subreddits'].factorize()[0]"
   ]
  },
  {
   "cell_type": "code",
   "execution_count": 15,
   "metadata": {},
   "outputs": [
    {
     "data": {
      "text/html": [
       "<div>\n",
       "<style scoped>\n",
       "    .dataframe tbody tr th:only-of-type {\n",
       "        vertical-align: middle;\n",
       "    }\n",
       "\n",
       "    .dataframe tbody tr th {\n",
       "        vertical-align: top;\n",
       "    }\n",
       "\n",
       "    .dataframe thead th {\n",
       "        text-align: right;\n",
       "    }\n",
       "</style>\n",
       "<table border=\"1\" class=\"dataframe\">\n",
       "  <thead>\n",
       "    <tr style=\"text-align: right;\">\n",
       "      <th></th>\n",
       "      <th>subreddits</th>\n",
       "      <th>clean_comments</th>\n",
       "      <th>subreddit-id</th>\n",
       "    </tr>\n",
       "  </thead>\n",
       "  <tbody>\n",
       "    <tr>\n",
       "      <td>0</td>\n",
       "      <td>hockey</td>\n",
       "      <td>honestly buffalo is the correct answer i remem...</td>\n",
       "      <td>0</td>\n",
       "    </tr>\n",
       "    <tr>\n",
       "      <td>1</td>\n",
       "      <td>nba</td>\n",
       "      <td>ah yes way could have been remember when he wa...</td>\n",
       "      <td>1</td>\n",
       "    </tr>\n",
       "    <tr>\n",
       "      <td>2</td>\n",
       "      <td>leagueoflegends</td>\n",
       "      <td>http youtu be xxbbr isz t m s if you didn t fi...</td>\n",
       "      <td>2</td>\n",
       "    </tr>\n",
       "    <tr>\n",
       "      <td>3</td>\n",
       "      <td>soccer</td>\n",
       "      <td>he wouldn t have been a bad signing if we woul...</td>\n",
       "      <td>3</td>\n",
       "    </tr>\n",
       "    <tr>\n",
       "      <td>4</td>\n",
       "      <td>funny</td>\n",
       "      <td>easy you use the piss and dry technique let a ...</td>\n",
       "      <td>4</td>\n",
       "    </tr>\n",
       "  </tbody>\n",
       "</table>\n",
       "</div>"
      ],
      "text/plain": [
       "        subreddits                                     clean_comments  \\\n",
       "0           hockey  honestly buffalo is the correct answer i remem...   \n",
       "1              nba  ah yes way could have been remember when he wa...   \n",
       "2  leagueoflegends  http youtu be xxbbr isz t m s if you didn t fi...   \n",
       "3           soccer  he wouldn t have been a bad signing if we woul...   \n",
       "4            funny  easy you use the piss and dry technique let a ...   \n",
       "\n",
       "   subreddit-id  \n",
       "0             0  \n",
       "1             1  \n",
       "2             2  \n",
       "3             3  \n",
       "4             4  "
      ]
     },
     "execution_count": 15,
     "metadata": {},
     "output_type": "execute_result"
    }
   ],
   "source": [
    "reddit_train.head()"
   ]
  },
  {
   "cell_type": "code",
   "execution_count": 16,
   "metadata": {},
   "outputs": [],
   "source": [
    "reddit_train.rename(columns={'clean_comments':'comments'},inplace=True)"
   ]
  },
  {
   "cell_type": "code",
   "execution_count": 17,
   "metadata": {},
   "outputs": [
    {
     "name": "stdout",
     "output_type": "stream",
     "text": [
      "18\n"
     ]
    }
   ],
   "source": [
    "print(reddit_train['subreddit-id'][185])"
   ]
  },
  {
   "cell_type": "code",
   "execution_count": 18,
   "metadata": {},
   "outputs": [],
   "source": [
    "subreddit_id_df = reddit_train[['subreddits','subreddit-id']].drop_duplicates().sort_values('subreddit-id')"
   ]
  },
  {
   "cell_type": "code",
   "execution_count": 19,
   "metadata": {},
   "outputs": [
    {
     "data": {
      "text/html": [
       "<div>\n",
       "<style scoped>\n",
       "    .dataframe tbody tr th:only-of-type {\n",
       "        vertical-align: middle;\n",
       "    }\n",
       "\n",
       "    .dataframe tbody tr th {\n",
       "        vertical-align: top;\n",
       "    }\n",
       "\n",
       "    .dataframe thead th {\n",
       "        text-align: right;\n",
       "    }\n",
       "</style>\n",
       "<table border=\"1\" class=\"dataframe\">\n",
       "  <thead>\n",
       "    <tr style=\"text-align: right;\">\n",
       "      <th></th>\n",
       "      <th>subreddits</th>\n",
       "      <th>subreddit-id</th>\n",
       "    </tr>\n",
       "  </thead>\n",
       "  <tbody>\n",
       "    <tr>\n",
       "      <td>0</td>\n",
       "      <td>hockey</td>\n",
       "      <td>0</td>\n",
       "    </tr>\n",
       "    <tr>\n",
       "      <td>1</td>\n",
       "      <td>nba</td>\n",
       "      <td>1</td>\n",
       "    </tr>\n",
       "    <tr>\n",
       "      <td>2</td>\n",
       "      <td>leagueoflegends</td>\n",
       "      <td>2</td>\n",
       "    </tr>\n",
       "    <tr>\n",
       "      <td>3</td>\n",
       "      <td>soccer</td>\n",
       "      <td>3</td>\n",
       "    </tr>\n",
       "    <tr>\n",
       "      <td>4</td>\n",
       "      <td>funny</td>\n",
       "      <td>4</td>\n",
       "    </tr>\n",
       "  </tbody>\n",
       "</table>\n",
       "</div>"
      ],
      "text/plain": [
       "        subreddits  subreddit-id\n",
       "0           hockey             0\n",
       "1              nba             1\n",
       "2  leagueoflegends             2\n",
       "3           soccer             3\n",
       "4            funny             4"
      ]
     },
     "execution_count": 19,
     "metadata": {},
     "output_type": "execute_result"
    }
   ],
   "source": [
    "subreddit_id_df.head()"
   ]
  },
  {
   "cell_type": "code",
   "execution_count": 20,
   "metadata": {},
   "outputs": [
    {
     "data": {
      "text/plain": [
       "{'hockey': 0,\n",
       " 'nba': 1,\n",
       " 'leagueoflegends': 2,\n",
       " 'soccer': 3,\n",
       " 'funny': 4,\n",
       " 'movies': 5,\n",
       " 'anime': 6,\n",
       " 'Overwatch': 7,\n",
       " 'trees': 8,\n",
       " 'GlobalOffensive': 9,\n",
       " 'nfl': 10,\n",
       " 'AskReddit': 11,\n",
       " 'gameofthrones': 12,\n",
       " 'conspiracy': 13,\n",
       " 'worldnews': 14,\n",
       " 'wow': 15,\n",
       " 'europe': 16,\n",
       " 'canada': 17,\n",
       " 'Music': 18,\n",
       " 'baseball': 19}"
      ]
     },
     "execution_count": 20,
     "metadata": {},
     "output_type": "execute_result"
    }
   ],
   "source": [
    "subreddit_to_id = dict(subreddit_id_df.values)\n",
    "subreddit_to_id"
   ]
  },
  {
   "cell_type": "code",
   "execution_count": 21,
   "metadata": {},
   "outputs": [
    {
     "data": {
      "text/plain": [
       "(70000, 3)"
      ]
     },
     "execution_count": 21,
     "metadata": {},
     "output_type": "execute_result"
    }
   ],
   "source": [
    "reddit_train.shape"
   ]
  },
  {
   "cell_type": "code",
   "execution_count": 22,
   "metadata": {},
   "outputs": [
    {
     "data": {
      "image/png": "[encoded data removed]",
      "text/plain": [
       "<Figure size 576x432 with 1 Axes>"
      ]
     },
     "metadata": {
      "needs_background": "light"
     },
     "output_type": "display_data"
    }
   ],
   "source": [
    "import matplotlib.pyplot as plt\n",
    "%matplotlib inline\n",
    "\n",
    "fig = plt.figure(figsize=(8,6))\n",
    "reddit_train.groupby('subreddits').comments.count().plot.bar(ylim=0)\n",
    "plt.show()"
   ]
  },
  {
   "cell_type": "code",
   "execution_count": 23,
   "metadata": {},
   "outputs": [],
   "source": [
    "reddit_train = reddit_train[['subreddit-id','subreddits','comments']] # Arrange the columns properly"
   ]
  },
  {
   "cell_type": "code",
   "execution_count": 24,
   "metadata": {},
   "outputs": [
    {
     "data": {
      "text/html": [
       "<div>\n",
       "<style scoped>\n",
       "    .dataframe tbody tr th:only-of-type {\n",
       "        vertical-align: middle;\n",
       "    }\n",
       "\n",
       "    .dataframe tbody tr th {\n",
       "        vertical-align: top;\n",
       "    }\n",
       "\n",
       "    .dataframe thead th {\n",
       "        text-align: right;\n",
       "    }\n",
       "</style>\n",
       "<table border=\"1\" class=\"dataframe\">\n",
       "  <thead>\n",
       "    <tr style=\"text-align: right;\">\n",
       "      <th></th>\n",
       "      <th>subreddit-id</th>\n",
       "      <th>subreddits</th>\n",
       "      <th>comments</th>\n",
       "    </tr>\n",
       "  </thead>\n",
       "  <tbody>\n",
       "    <tr>\n",
       "      <td>0</td>\n",
       "      <td>0</td>\n",
       "      <td>hockey</td>\n",
       "      <td>honestly buffalo is the correct answer i remem...</td>\n",
       "    </tr>\n",
       "    <tr>\n",
       "      <td>1</td>\n",
       "      <td>1</td>\n",
       "      <td>nba</td>\n",
       "      <td>ah yes way could have been remember when he wa...</td>\n",
       "    </tr>\n",
       "    <tr>\n",
       "      <td>2</td>\n",
       "      <td>2</td>\n",
       "      <td>leagueoflegends</td>\n",
       "      <td>http youtu be xxbbr isz t m s if you didn t fi...</td>\n",
       "    </tr>\n",
       "    <tr>\n",
       "      <td>3</td>\n",
       "      <td>3</td>\n",
       "      <td>soccer</td>\n",
       "      <td>he wouldn t have been a bad signing if we woul...</td>\n",
       "    </tr>\n",
       "    <tr>\n",
       "      <td>4</td>\n",
       "      <td>4</td>\n",
       "      <td>funny</td>\n",
       "      <td>easy you use the piss and dry technique let a ...</td>\n",
       "    </tr>\n",
       "  </tbody>\n",
       "</table>\n",
       "</div>"
      ],
      "text/plain": [
       "   subreddit-id       subreddits  \\\n",
       "0             0           hockey   \n",
       "1             1              nba   \n",
       "2             2  leagueoflegends   \n",
       "3             3           soccer   \n",
       "4             4            funny   \n",
       "\n",
       "                                            comments  \n",
       "0  honestly buffalo is the correct answer i remem...  \n",
       "1  ah yes way could have been remember when he wa...  \n",
       "2  http youtu be xxbbr isz t m s if you didn t fi...  \n",
       "3  he wouldn t have been a bad signing if we woul...  \n",
       "4  easy you use the piss and dry technique let a ...  "
      ]
     },
     "execution_count": 24,
     "metadata": {},
     "output_type": "execute_result"
    }
   ],
   "source": [
    "reddit_train.head()"
   ]
  },
  {
   "cell_type": "code",
   "execution_count": 25,
   "metadata": {},
   "outputs": [
    {
     "name": "stdout",
     "output_type": "stream",
     "text": [
      "27807     4\n",
      "3782     16\n",
      "67184    18\n",
      "46542    11\n",
      "57722     2\n",
      "         ..\n",
      "51297     1\n",
      "478       6\n",
      "50020     0\n",
      "30881    11\n",
      "29668    13\n",
      "Name: subreddit-id, Length: 56000, dtype: int64\n"
     ]
    }
   ],
   "source": [
    "from sklearn.model_selection import train_test_split\n",
    "X_train, X_test, y_train, y_test = train_test_split(reddit_train['comments'], reddit_train['subreddit-id'], train_size=0.8, test_size=0.2)\n",
    "print(y_train)"
   ]
  },
  {
   "cell_type": "code",
   "execution_count": 26,
   "metadata": {},
   "outputs": [],
   "source": [
    "from sklearn.feature_extraction.text import CountVectorizer\n",
    "vectorizer = CountVectorizer()\n",
    "#print(vectorizer)"
   ]
  },
  {
   "cell_type": "code",
   "execution_count": 27,
   "metadata": {},
   "outputs": [],
   "source": [
    "vectors_train = vectorizer.fit_transform(X_train)"
   ]
  },
  {
   "cell_type": "code",
   "execution_count": 28,
   "metadata": {},
   "outputs": [],
   "source": [
    "vectors_test = vectorizer.transform(X_test)"
   ]
  },
  {
   "cell_type": "code",
   "execution_count": 29,
   "metadata": {},
   "outputs": [
    {
     "name": "stdout",
     "output_type": "stream",
     "text": [
      "  (0, 45495)\t1\n",
      "  (0, 16811)\t1\n",
      "  (0, 29922)\t1\n",
      "  (0, 29024)\t1\n",
      "  (0, 17731)\t1\n",
      "  (0, 31675)\t1\n",
      "  (0, 44993)\t1\n",
      "  (0, 20574)\t1\n",
      "  (0, 48763)\t1\n",
      "  (0, 28427)\t1\n",
      "  (1, 39410)\t1\n",
      "  (1, 31217)\t1\n",
      "  (1, 53244)\t1\n",
      "  (1, 13230)\t1\n",
      "  (1, 323)\t1\n",
      "  (1, 4216)\t2\n",
      "  (1, 55060)\t1\n",
      "  (1, 2077)\t1\n",
      "  (1, 28831)\t1\n",
      "  (1, 48609)\t1\n",
      "  (1, 2779)\t1\n",
      "  (1, 42413)\t1\n",
      "  (1, 4028)\t1\n",
      "  (1, 50976)\t1\n",
      "  (1, 42367)\t1\n",
      "  :\t:\n",
      "  (55998, 47258)\t1\n",
      "  (55998, 33824)\t1\n",
      "  (55998, 49196)\t1\n",
      "  (55998, 17731)\t1\n",
      "  (55999, 32949)\t1\n",
      "  (55999, 9076)\t1\n",
      "  (55999, 33735)\t1\n",
      "  (55999, 24378)\t1\n",
      "  (55999, 23480)\t1\n",
      "  (55999, 9104)\t1\n",
      "  (55999, 15846)\t1\n",
      "  (55999, 54885)\t1\n",
      "  (55999, 9127)\t1\n",
      "  (55999, 21579)\t1\n",
      "  (55999, 39442)\t1\n",
      "  (55999, 52868)\t1\n",
      "  (55999, 54825)\t1\n",
      "  (55999, 31488)\t1\n",
      "  (55999, 24553)\t2\n",
      "  (55999, 23375)\t1\n",
      "  (55999, 48546)\t1\n",
      "  (55999, 33824)\t1\n",
      "  (55999, 53577)\t1\n",
      "  (55999, 24646)\t1\n",
      "  (55999, 48529)\t1\n"
     ]
    }
   ],
   "source": [
    "#print(vectorizer.vocabulary_)\n",
    "print(vectors_train)"
   ]
  },
  {
   "cell_type": "code",
   "execution_count": 30,
   "metadata": {},
   "outputs": [],
   "source": [
    "#print(vectors_train_normalized)"
   ]
  },
  {
   "cell_type": "code",
   "execution_count": 31,
   "metadata": {},
   "outputs": [
    {
     "name": "stdout",
     "output_type": "stream",
     "text": [
      "  (0, 28427)\t0.3485410994480327\n",
      "  (0, 48763)\t0.19423677243162485\n",
      "  (0, 20574)\t0.31899615379975854\n",
      "  (0, 44993)\t0.22105255920756162\n",
      "  (0, 31675)\t0.286651606319016\n",
      "  (0, 17731)\t0.17597683096888134\n",
      "  (0, 29024)\t0.3783802855340662\n",
      "  (0, 29922)\t0.2608198460663436\n",
      "  (0, 16811)\t0.3407111165789659\n",
      "  (0, 45495)\t0.4997486489958019\n",
      "  (1, 48763)\t0.022110173006150473\n",
      "  (1, 20574)\t0.0726233252387064\n",
      "  (1, 44993)\t0.050325283584003205\n",
      "  (1, 17731)\t0.04006324990975362\n",
      "  (1, 29922)\t0.059378786496201784\n",
      "  (1, 16811)\t0.03878349932596551\n",
      "  (1, 48529)\t0.1538270855867395\n",
      "  (1, 14378)\t0.04495214721065771\n",
      "  (1, 48819)\t0.03663616414990504\n",
      "  (1, 18221)\t0.027789756734451374\n",
      "  (1, 53722)\t0.09257988832160326\n",
      "  (1, 48469)\t0.07088844207026403\n",
      "  (1, 9119)\t0.08002413033856817\n",
      "  (1, 49196)\t0.11671696269507463\n",
      "  (1, 34143)\t0.062116173937355704\n",
      "  :\t:\n",
      "  (55998, 19427)\t0.2927804892611436\n",
      "  (55998, 45439)\t0.3037373525545786\n",
      "  (55998, 44642)\t0.3037373525545786\n",
      "  (55998, 18859)\t0.3037373525545786\n",
      "  (55999, 48529)\t0.0733755035846662\n",
      "  (55999, 24646)\t0.06992069419459726\n",
      "  (55999, 53577)\t0.11786583952476759\n",
      "  (55999, 33824)\t0.07120608823027341\n",
      "  (55999, 48546)\t0.05334472568441766\n",
      "  (55999, 23375)\t0.07627947004495161\n",
      "  (55999, 24553)\t0.1517213524382399\n",
      "  (55999, 31488)\t0.14906944288478402\n",
      "  (55999, 54825)\t0.16556805704187755\n",
      "  (55999, 52868)\t0.09651748845208967\n",
      "  (55999, 39442)\t0.13421175346018044\n",
      "  (55999, 21579)\t0.16913412009984563\n",
      "  (55999, 9127)\t0.20245069120411208\n",
      "  (55999, 54885)\t0.19554883278397933\n",
      "  (55999, 15846)\t0.22666933426924704\n",
      "  (55999, 9104)\t0.33283018097801476\n",
      "  (55999, 23480)\t0.3089274214398332\n",
      "  (55999, 24378)\t0.34114008883160196\n",
      "  (55999, 33735)\t0.31094089493709265\n",
      "  (55999, 9076)\t0.3292808119417233\n",
      "  (55999, 32949)\t0.41857888326016535\n"
     ]
    }
   ],
   "source": [
    "from sklearn.feature_extraction.text import TfidfVectorizer\n",
    "\n",
    "#tf_idf_vectorizer = TfidfVectorizer(sublinear_tf=True, min_df=0, norm='l2', encoding='latin-1', ngram_range=(1, 2), stop_words='english')\n",
    "tf_idf_vectorizer = TfidfVectorizer()\n",
    "X_train_idf = tf_idf_vectorizer.fit_transform(X_train)\n",
    "X_test_idf = tf_idf_vectorizer.transform(X_test)\n",
    "print(X_train_idf)"
   ]
  },
  {
   "cell_type": "code",
   "execution_count": 32,
   "metadata": {},
   "outputs": [
    {
     "name": "stdout",
     "output_type": "stream",
     "text": [
      "  (0, 28427)\t0.3485410994480327\n",
      "  (0, 48763)\t0.19423677243162485\n",
      "  (0, 20574)\t0.31899615379975854\n",
      "  (0, 44993)\t0.22105255920756162\n",
      "  (0, 31675)\t0.286651606319016\n",
      "  (0, 17731)\t0.17597683096888134\n",
      "  (0, 29024)\t0.3783802855340662\n",
      "  (0, 29922)\t0.2608198460663436\n",
      "  (0, 16811)\t0.3407111165789659\n",
      "  (0, 45495)\t0.4997486489958019\n",
      "  (1, 48763)\t0.022110173006150476\n",
      "  (1, 20574)\t0.07262332523870642\n",
      "  (1, 44993)\t0.05032528358400321\n",
      "  (1, 17731)\t0.04006324990975363\n",
      "  (1, 29922)\t0.05937878649620179\n",
      "  (1, 16811)\t0.03878349932596552\n",
      "  (1, 48529)\t0.15382708558673952\n",
      "  (1, 14378)\t0.04495214721065772\n",
      "  (1, 48819)\t0.036636164149905046\n",
      "  (1, 18221)\t0.027789756734451377\n",
      "  (1, 53722)\t0.09257988832160327\n",
      "  (1, 48469)\t0.07088844207026404\n",
      "  (1, 9119)\t0.08002413033856819\n",
      "  (1, 49196)\t0.11671696269507464\n",
      "  (1, 34143)\t0.06211617393735571\n",
      "  :\t:\n",
      "  (55998, 19427)\t0.2927804892611436\n",
      "  (55998, 45439)\t0.3037373525545786\n",
      "  (55998, 44642)\t0.3037373525545786\n",
      "  (55998, 18859)\t0.3037373525545786\n",
      "  (55999, 48529)\t0.0733755035846662\n",
      "  (55999, 24646)\t0.06992069419459726\n",
      "  (55999, 53577)\t0.11786583952476759\n",
      "  (55999, 33824)\t0.07120608823027341\n",
      "  (55999, 48546)\t0.05334472568441766\n",
      "  (55999, 23375)\t0.07627947004495161\n",
      "  (55999, 24553)\t0.1517213524382399\n",
      "  (55999, 31488)\t0.14906944288478402\n",
      "  (55999, 54825)\t0.16556805704187755\n",
      "  (55999, 52868)\t0.09651748845208967\n",
      "  (55999, 39442)\t0.13421175346018044\n",
      "  (55999, 21579)\t0.16913412009984563\n",
      "  (55999, 9127)\t0.20245069120411208\n",
      "  (55999, 54885)\t0.19554883278397933\n",
      "  (55999, 15846)\t0.22666933426924704\n",
      "  (55999, 9104)\t0.33283018097801476\n",
      "  (55999, 23480)\t0.3089274214398332\n",
      "  (55999, 24378)\t0.34114008883160196\n",
      "  (55999, 33735)\t0.31094089493709265\n",
      "  (55999, 9076)\t0.3292808119417233\n",
      "  (55999, 32949)\t0.41857888326016535\n"
     ]
    }
   ],
   "source": [
    "from sklearn.preprocessing import normalize\n",
    "\n",
    "#l2 regularization. It ensures that the learner learns from the data on similar scales across features\n",
    "vectors_train_normalized = normalize(X_train_idf)\n",
    "vectors_test_normalized = normalize(X_test_idf)\n",
    "print(vectors_train_normalized)"
   ]
  },
  {
   "cell_type": "code",
   "execution_count": 33,
   "metadata": {},
   "outputs": [],
   "source": [
    "from sklearn.naive_bayes import MultinomialNB"
   ]
  },
  {
   "cell_type": "code",
   "execution_count": 34,
   "metadata": {},
   "outputs": [],
   "source": [
    "clf_multNB = MultinomialNB().fit(X_train_idf, y_train)"
   ]
  },
  {
   "cell_type": "code",
   "execution_count": 35,
   "metadata": {},
   "outputs": [
    {
     "name": "stdout",
     "output_type": "stream",
     "text": [
      "[ 1  7  0 ...  8  5 18]\n"
     ]
    }
   ],
   "source": [
    "y_pred = clf_multNB.predict(X_test_idf)\n",
    "print(y_pred)"
   ]
  },
  {
   "cell_type": "code",
   "execution_count": 36,
   "metadata": {},
   "outputs": [
    {
     "data": {
      "text/plain": [
       "0.5609285714285714"
      ]
     },
     "execution_count": 36,
     "metadata": {},
     "output_type": "execute_result"
    }
   ],
   "source": [
    "from sklearn import metrics\n",
    "metrics.accuracy_score(y_test, y_pred)"
   ]
  },
  {
   "cell_type": "code",
   "execution_count": 37,
   "metadata": {},
   "outputs": [],
   "source": [
    "from sklearn.linear_model import LogisticRegression\n",
    "\n",
    "clf_log = LogisticRegression()"
   ]
  },
  {
   "cell_type": "code",
   "execution_count": 38,
   "metadata": {},
   "outputs": [
    {
     "data": {
      "text/plain": [
       "LogisticRegression(C=1.0, class_weight=None, dual=False, fit_intercept=True,\n",
       "          intercept_scaling=1, max_iter=100, multi_class='ovr', n_jobs=1,\n",
       "          penalty='l2', random_state=None, solver='liblinear', tol=0.0001,\n",
       "          verbose=0, warm_start=False)"
      ]
     },
     "execution_count": 38,
     "metadata": {},
     "output_type": "execute_result"
    }
   ],
   "source": [
    "clf_log.fit(vectors_train_normalized, y_train) # \"Fit to learn parameters\""
   ]
  },
  {
   "cell_type": "code",
   "execution_count": 39,
   "metadata": {},
   "outputs": [],
   "source": [
    "clf_y_pred = clf_log.predict(vectors_test_normalized)"
   ]
  },
  {
   "cell_type": "code",
   "execution_count": 40,
   "metadata": {},
   "outputs": [
    {
     "data": {
      "text/plain": [
       "0.5482857142857143"
      ]
     },
     "execution_count": 40,
     "metadata": {},
     "output_type": "execute_result"
    }
   ],
   "source": [
    "metrics.accuracy_score(y_test, clf_y_pred)"
   ]
  },
  {
   "cell_type": "code",
   "execution_count": 43,
   "metadata": {},
   "outputs": [
    {
     "name": "stderr",
     "output_type": "stream",
     "text": [
      "C:\\Users\\Ambutu\\Anaconda3\\lib\\site-packages\\sklearn\\ensemble\\weight_boosting.py:29: DeprecationWarning: numpy.core.umath_tests is an internal NumPy module and should not be imported. It will be removed in a future NumPy release.\n",
      "  from numpy.core.umath_tests import inner1d\n"
     ]
    }
   ],
   "source": [
    "from sklearn.ensemble import VotingClassifier\n",
    "\n",
    "estimators = [('multi_bin', clf_multNB), ('log_reg', clf_log)]\n",
    "\n",
    "#create our voting classifier, inputting our models\n",
    "ensemble = VotingClassifier(estimators, voting='hard')"
   ]
  },
  {
   "cell_type": "code",
   "execution_count": 44,
   "metadata": {},
   "outputs": [
    {
     "data": {
      "text/plain": [
       "VotingClassifier(estimators=[('multi_bin', MultinomialNB(alpha=1.0, class_prior=None, fit_prior=True)), ('log_reg', LogisticRegression(C=1.0, class_weight=None, dual=False, fit_intercept=True,\n",
       "          intercept_scaling=1, max_iter=100, multi_class='ovr', n_jobs=1,\n",
       "          penalty='l2', random_state=None, solver='liblinear', tol=0.0001,\n",
       "          verbose=0, warm_start=False))],\n",
       "         flatten_transform=None, n_jobs=1, voting='hard', weights=None)"
      ]
     },
     "execution_count": 44,
     "metadata": {},
     "output_type": "execute_result"
    }
   ],
   "source": [
    "#fit model to training data\n",
    "ensemble.fit(X_train_idf, y_train)"
   ]
  },
  {
   "cell_type": "code",
   "execution_count": 46,
   "metadata": {},
   "outputs": [
    {
     "name": "stderr",
     "output_type": "stream",
     "text": [
      "C:\\Users\\Ambutu\\Anaconda3\\lib\\site-packages\\sklearn\\preprocessing\\label.py:151: DeprecationWarning: The truth value of an empty array is ambiguous. Returning False, but in future this will result in an error. Use `array.size > 0` to check that an array is not empty.\n",
      "  if diff:\n"
     ]
    },
    {
     "data": {
      "text/plain": [
       "0.5569285714285714"
      ]
     },
     "execution_count": 46,
     "metadata": {},
     "output_type": "execute_result"
    }
   ],
   "source": [
    "ensemble.score(X_test_idf, y_test)"
   ]
  },
  {
   "cell_type": "code",
   "execution_count": null,
   "metadata": {},
   "outputs": [],
   "source": []
  }
 ],
 "metadata": {
  "kernelspec": {
   "display_name": "Python 3",
   "language": "python",
   "name": "python3"
  },
  "language_info": {
   "codemirror_mode": {
    "name": "ipython",
    "version": 3
   },
   "file_extension": ".py",
   "mimetype": "text/x-python",
   "name": "python",
   "nbconvert_exporter": "python",
   "pygments_lexer": "ipython3",
   "version": "3.7.0"
  }
 },
 "nbformat": 4,
 "nbformat_minor": 2
}
